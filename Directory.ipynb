{
 "cells": [
  {
   "cell_type": "code",
   "execution_count": 7,
   "id": "fe3ac45b",
   "metadata": {},
   "outputs": [],
   "source": [
    "import sys\n",
    "import pandas as pd\n",
    "import numpy as np\n",
    "import keyword\n",
    "import string\n",
    "import math\n",
    "import random\n",
    "import os\n",
    "import seaborn as sns\n",
    "import gspread\n",
    "import datetime\n",
    "from bs4 import BeautifulSoup\n",
    "from urllib import request "
   ]
  },
  {
   "cell_type": "code",
   "execution_count": 38,
   "id": "e4598df6",
   "metadata": {
    "scrolled": true
   },
   "outputs": [],
   "source": [
    "dir1 = []\n",
    "for (root, dirs, files) in os.walk('d:/'):  # path_dir : 탐색할 루트 폴더\n",
    "        for file_name in files:\n",
    "                # print(root + '/' + file_name)\n",
    "                dir1.append(root + '/' + file_name)\n",
    "data = pd.DataFrame(dir1)\n",
    "data = data.rename(columns={0:'dir'})"
   ]
  },
  {
   "cell_type": "raw",
   "id": "20372691",
   "metadata": {
    "scrolled": true
   },
   "source": [
    "dir2 = []\n",
    "for (root, dirs, files) in os.walk('c:/'):  # path_dir : 탐색할 루트 폴더\n",
    "        for file_name in files:\n",
    "                # print(root + '/' + file_name)\n",
    "                dir2.append(root + '/' + file_name)\n",
    "data1 = pd.DataFrame(dir2)\n",
    "data1 = data1.rename(columns={0:'dir'})\n",
    "result1 = pd.concat([data1,data])\n",
    "data = data['dir'].str.replace('d://', 'd:/').head(3000000)"
   ]
  },
  {
   "cell_type": "code",
   "execution_count": 48,
   "id": "945e5f47",
   "metadata": {},
   "outputs": [
    {
     "data": {
      "text/plain": [
       "(802608, 1)"
      ]
     },
     "execution_count": 48,
     "metadata": {},
     "output_type": "execute_result"
    }
   ],
   "source": [
    "result1.shape"
   ]
  },
  {
   "cell_type": "code",
   "execution_count": 42,
   "id": "4df6bd53",
   "metadata": {
    "scrolled": true
   },
   "outputs": [
    {
     "data": {
      "text/html": [
       "<div>\n",
       "<style scoped>\n",
       "    .dataframe tbody tr th:only-of-type {\n",
       "        vertical-align: middle;\n",
       "    }\n",
       "\n",
       "    .dataframe tbody tr th {\n",
       "        vertical-align: top;\n",
       "    }\n",
       "\n",
       "    .dataframe thead th {\n",
       "        text-align: right;\n",
       "    }\n",
       "</style>\n",
       "<table border=\"1\" class=\"dataframe\">\n",
       "  <thead>\n",
       "    <tr style=\"text-align: right;\">\n",
       "      <th></th>\n",
       "      <th>dir</th>\n",
       "    </tr>\n",
       "  </thead>\n",
       "  <tbody>\n",
       "    <tr>\n",
       "      <th>0</th>\n",
       "      <td>d://INDEX.PNG</td>\n",
       "    </tr>\n",
       "    <tr>\n",
       "      <th>1</th>\n",
       "      <td>d://IOAssignDataFINAL - 副本.xls</td>\n",
       "    </tr>\n",
       "  </tbody>\n",
       "</table>\n",
       "</div>"
      ],
      "text/plain": [
       "                              dir\n",
       "0                   d://INDEX.PNG\n",
       "1  d://IOAssignDataFINAL - 副本.xls"
      ]
     },
     "execution_count": 42,
     "metadata": {},
     "output_type": "execute_result"
    }
   ],
   "source": [
    "data.head(2)"
   ]
  },
  {
   "cell_type": "code",
   "execution_count": 43,
   "id": "972ff686",
   "metadata": {},
   "outputs": [],
   "source": [
    "result1 = pd.concat([data1,data])"
   ]
  },
  {
   "cell_type": "code",
   "execution_count": 45,
   "id": "174f4ee1",
   "metadata": {},
   "outputs": [
    {
     "data": {
      "text/plain": [
       "(802608, 1)"
      ]
     },
     "execution_count": 45,
     "metadata": {},
     "output_type": "execute_result"
    }
   ],
   "source": [
    "result1.shape"
   ]
  },
  {
   "cell_type": "code",
   "execution_count": 33,
   "id": "7e20d9f7",
   "metadata": {
    "scrolled": false
   },
   "outputs": [],
   "source": [
    "data = data['dir'].str.replace('d://', 'd:/').head(3000000)"
   ]
  },
  {
   "cell_type": "code",
   "execution_count": 73,
   "id": "1568e416",
   "metadata": {},
   "outputs": [],
   "source": [
    "data.to_excel('d:/04_python/02_dir/dir2.xlsx', index = False,encoding = \"utf-8-sig\")"
   ]
  },
  {
   "cell_type": "code",
   "execution_count": 34,
   "id": "528f5ca2",
   "metadata": {},
   "outputs": [
    {
     "data": {
      "text/plain": [
       "0                     d:/INDEX.PNG\n",
       "1    d:/IOAssignDataFINAL - 副本.xls\n",
       "Name: dir, dtype: object"
      ]
     },
     "execution_count": 34,
     "metadata": {},
     "output_type": "execute_result"
    }
   ],
   "source": [
    "data.head(2)"
   ]
  },
  {
   "cell_type": "code",
   "execution_count": null,
   "id": "8447c88d",
   "metadata": {},
   "outputs": [],
   "source": []
  },
  {
   "cell_type": "code",
   "execution_count": 19,
   "id": "3f7c9eef",
   "metadata": {
    "scrolled": true
   },
   "outputs": [
    {
     "name": "stdout",
     "output_type": "stream",
     "text": [
      "d:/02_ml/2020-ml-roadmap-full.png\n",
      "d:/02_ml/Adult Census Income Binary Classification dataset.csv\n",
      "d:/02_ml/array.csv\n",
      "d:/02_ml/Automobile price data _Raw_.csv\n",
      "d:/02_ml/azure-machine-learning-algorithm-cheat-sheet-nov2019.pdf\n",
      "d:/02_ml/Bike.csv\n",
      "d:/02_ml/c2_price.csv\n",
      "d:/02_ml/car-price.csv\n",
      "d:/02_ml/Car_Accident.csv\n",
      "d:/02_ml/cost estimation_r7_2014-2020 (2).xlsx\n",
      "d:/02_ml/cost estimation_r7_2014-2020 (2)_R1.xlsx\n",
      "d:/02_ml/cost estimation_r7_2014-2020 (2)_R2.xlsx\n",
      "d:/02_ml/cost estimation_r9_may update.xlsx\n",
      "d:/02_ml/credit.csv\n",
      "d:/02_ml/dir.csv\n",
      "d:/02_ml/dir.pbix\n",
      "d:/02_ml/dir1.csv\n",
      "d:/02_ml/dir2.csv\n",
      "d:/02_ml/dir_1.csv\n",
      "d:/02_ml/dir_2.csv\n",
      "d:/02_ml/Dir_list.pbix\n",
      "d:/02_ml/dir_list1.csv\n",
      "d:/02_ml/employees_kr.csv\n",
      "d:/02_ml/exceldata.csv\n",
      "d:/02_ml/features.csv\n",
      "d:/02_ml/fifa.csv\n",
      "d:/02_ml/fifa1.csv\n",
      "d:/02_ml/heart.csv\n",
      "d:/02_ml/K-10Azure.xlsx\n",
      "d:/02_ml/K-10분석.pbix\n",
      "d:/02_ml/K-10분석.xlsx\n",
      "d:/02_ml/K10.csv\n",
      "d:/02_ml/ml_book.docx\n",
      "d:/02_ml/ML_INFORM.pbix\n",
      "d:/02_ml/ML_INFORM.xlsx\n",
      "d:/02_ml/PathAnalysis.csv\n",
      "d:/02_ml/Picture3.jpg\n",
      "d:/02_ml/pid_data.pbix\n",
      "d:/02_ml/Red_Win.xlsx\n",
      "d:/02_ml/regdata.csv\n",
      "d:/02_ml/Restaurant feature data.csv\n",
      "d:/02_ml/SIM-102.asc\n",
      "d:/02_ml/SIM-102_aaa.csv\n",
      "d:/02_ml/st.csv\n",
      "d:/02_ml/stores.csv\n",
      "d:/02_ml/test.csv\n",
      "d:/02_ml/text.preprocessing.R\n",
      "d:/02_ml/Titanic.csv\n",
      "d:/02_ml/TITANIC.pbix\n",
      "d:/02_ml/TITANIC.xlsx\n",
      "d:/02_ml/train.csv\n",
      "d:/02_ml/walmart.csv\n",
      "d:/02_ml/White_Win.xlsx\n",
      "d:/02_ml/winequality-red.csv\n",
      "d:/02_ml/winequality-white.csv\n",
      "d:/02_ml/다운로드.jpg\n"
     ]
    }
   ],
   "source": [
    "dir1 = []\n",
    "for (root, dirs, files) in os.walk('d:/02_ml'):  # path_dir : 탐색할 루트 폴더\n",
    "        for file_name in files:\n",
    "                print(root + '/' + file_name)\n",
    "                dir1.append(root + '/' + file_name)\n",
    "data1 = pd.DataFrame(dir1)"
   ]
  },
  {
   "cell_type": "code",
   "execution_count": 33,
   "id": "eed83a6e",
   "metadata": {},
   "outputs": [
    {
     "data": {
      "text/plain": [
       "RangeIndex(start=0, stop=1, step=1)"
      ]
     },
     "execution_count": 33,
     "metadata": {},
     "output_type": "execute_result"
    }
   ],
   "source": [
    "data.columns"
   ]
  },
  {
   "cell_type": "code",
   "execution_count": null,
   "id": "73d5de07",
   "metadata": {},
   "outputs": [],
   "source": []
  },
  {
   "cell_type": "code",
   "execution_count": 30,
   "id": "886bbac2",
   "metadata": {},
   "outputs": [],
   "source": [
    "data.to_csv('d:/04_python/02_dir/dir1.csv', index = False,encoding = \"utf-8-sig\")"
   ]
  },
  {
   "cell_type": "code",
   "execution_count": 17,
   "id": "7661531e",
   "metadata": {},
   "outputs": [],
   "source": [
    "data.to_csv('d:/02_ml/dir_2.csv')"
   ]
  },
  {
   "cell_type": "code",
   "execution_count": 11,
   "id": "eea538cb",
   "metadata": {
    "scrolled": true
   },
   "outputs": [],
   "source": [
    "dir2 = []\n",
    "for (root, dirs, files) in os.walk('c:/'):  # path_dir : 탐색할 루트 폴더\n",
    "        for file_name in files:\n",
    "                # print(root + '/' + file_name)\n",
    "                dir2.append(root + '/' + file_name)\n",
    "data1 = pd.DataFrame(dir2)"
   ]
  },
  {
   "cell_type": "code",
   "execution_count": 12,
   "id": "bbd0087d",
   "metadata": {},
   "outputs": [],
   "source": [
    "data1 = data1.rename(columns={0:'dir'})\n",
    "data1 = data1['dir'].str.replace('c://', 'c:/').head(3000000)"
   ]
  },
  {
   "cell_type": "code",
   "execution_count": 13,
   "id": "e6f4d20c",
   "metadata": {},
   "outputs": [],
   "source": [
    "data1.to_excel('d:/04_python/02_dir/dir1.xlsx', index = False,encoding = \"utf-8-sig\")"
   ]
  },
  {
   "cell_type": "code",
   "execution_count": 30,
   "id": "d040aef1",
   "metadata": {},
   "outputs": [
    {
     "data": {
      "text/plain": [
       "0                                    d:/INDEX.PNG\n",
       "1                   d:/IOAssignDataFINAL - 副本.xls\n",
       "2                        d:/IOAssignDataFINAL.xls\n",
       "3                              d:/Powershell.docx\n",
       "4         d:/PSV DRAIN VENT 0712 CM2 GRAPHIC.xlsx\n",
       "                           ...                   \n",
       "276660                  d:/중국어회화\\초딩중국어/语文_5-2.pdf\n",
       "276661                  d:/중국어회화\\초딩중국어/语文_6-1.pdf\n",
       "276662                  d:/중국어회화\\초딩중국어/语文_6-2.pdf\n",
       "276663           d:/중국어회화\\초딩중국어\\H51327/H51327.pdf\n",
       "276664         d:/중국어회화\\초딩중국어\\H51327/H51327答案.pdf\n",
       "Name: dir, Length: 276665, dtype: object"
      ]
     },
     "execution_count": 30,
     "metadata": {},
     "output_type": "execute_result"
    }
   ],
   "source": [
    "data"
   ]
  },
  {
   "cell_type": "code",
   "execution_count": 15,
   "id": "3a02a2bf",
   "metadata": {},
   "outputs": [
    {
     "data": {
      "text/plain": [
       "(525942,)"
      ]
     },
     "execution_count": 15,
     "metadata": {},
     "output_type": "execute_result"
    }
   ],
   "source": [
    "data1.shape"
   ]
  },
  {
   "cell_type": "code",
   "execution_count": 22,
   "id": "0a621b73",
   "metadata": {},
   "outputs": [],
   "source": [
    "result1 = pd.concat([data1,data], ignore_index=True)"
   ]
  },
  {
   "cell_type": "code",
   "execution_count": 25,
   "id": "24866f36",
   "metadata": {},
   "outputs": [
    {
     "data": {
      "text/plain": [
       "0                            c:/7D8709E502B5\n",
       "1                              c:/amtlib.dll\n",
       "2                                 c:/bootmgr\n",
       "3                                 c:/BOOTNXT\n",
       "4                            c:/BOOTSECT.BAK\n",
       "                         ...                \n",
       "802602             d:/중국어회화\\초딩중국어/语文_5-2.pdf\n",
       "802603             d:/중국어회화\\초딩중국어/语文_6-1.pdf\n",
       "802604             d:/중국어회화\\초딩중국어/语文_6-2.pdf\n",
       "802605      d:/중국어회화\\초딩중국어\\H51327/H51327.pdf\n",
       "802606    d:/중국어회화\\초딩중국어\\H51327/H51327答案.pdf\n",
       "Name: dir, Length: 802607, dtype: object"
      ]
     },
     "execution_count": 25,
     "metadata": {},
     "output_type": "execute_result"
    }
   ],
   "source": [
    "result1"
   ]
  },
  {
   "cell_type": "code",
   "execution_count": null,
   "id": "0090198c",
   "metadata": {},
   "outputs": [],
   "source": []
  }
 ],
 "metadata": {
  "kernelspec": {
   "display_name": "Python 3",
   "language": "python",
   "name": "python3"
  },
  "language_info": {
   "codemirror_mode": {
    "name": "ipython",
    "version": 3
   },
   "file_extension": ".py",
   "mimetype": "text/x-python",
   "name": "python",
   "nbconvert_exporter": "python",
   "pygments_lexer": "ipython3",
   "version": "3.8.8"
  }
 },
 "nbformat": 4,
 "nbformat_minor": 5
}
