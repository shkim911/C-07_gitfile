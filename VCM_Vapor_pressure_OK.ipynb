{
 "cells": [
  {
   "cell_type": "code",
   "execution_count": 50,
   "id": "41c927b3",
   "metadata": {},
   "outputs": [],
   "source": [
    "import pandas as pd\n",
    "import numpy as np\n",
    "import math as m"
   ]
  },
  {
   "cell_type": "code",
   "execution_count": 44,
   "id": "991aee39",
   "metadata": {},
   "outputs": [],
   "source": [
    "def vp(temp):\n",
    "    a = 0.76513\n",
    "    b = 889.133\n",
    "    c = 242.603\n",
    "    print(a - b/(temp + c))\n",
    "    print(10**(a - b/(temp + c)) * 760)\n"
   ]
  },
  {
   "cell_type": "code",
   "execution_count": 45,
   "id": "0e2058df",
   "metadata": {
    "scrolled": true
   },
   "outputs": [
    {
     "name": "stdout",
     "output_type": "stream",
     "text": [
      "-2.620714792329105\n",
      "1.820114879087408\n"
     ]
    }
   ],
   "source": [
    "vp(20)"
   ]
  },
  {
   "cell_type": "code",
   "execution_count": 52,
   "id": "64e81d11",
   "metadata": {},
   "outputs": [
    {
     "data": {
      "text/plain": [
       "1.6094379124341003"
      ]
     },
     "execution_count": 52,
     "metadata": {},
     "output_type": "execute_result"
    }
   ],
   "source": [
    "m.log(5)"
   ]
  },
  {
   "cell_type": "code",
   "execution_count": 51,
   "id": "9e160d28",
   "metadata": {},
   "outputs": [
    {
     "data": {
      "text/plain": [
       "3.6888794541139363"
      ]
     },
     "execution_count": 51,
     "metadata": {},
     "output_type": "execute_result"
    }
   ],
   "source": [
    "m.log(40)"
   ]
  },
  {
   "cell_type": "code",
   "execution_count": 53,
   "id": "7a0d3884",
   "metadata": {
    "scrolled": false
   },
   "outputs": [
    {
     "data": {
      "text/plain": [
       "2.3010299956639813"
      ]
     },
     "execution_count": 53,
     "metadata": {},
     "output_type": "execute_result"
    }
   ],
   "source": [
    "math.log10(200)"
   ]
  },
  {
   "cell_type": "code",
   "execution_count": 54,
   "id": "466c8df7",
   "metadata": {},
   "outputs": [
    {
     "data": {
      "text/plain": [
       "54.598150033144236"
      ]
     },
     "execution_count": 54,
     "metadata": {},
     "output_type": "execute_result"
    }
   ],
   "source": [
    "math.exp(4)"
   ]
  },
  {
   "cell_type": "code",
   "execution_count": 49,
   "id": "79976e26",
   "metadata": {},
   "outputs": [
    {
     "data": {
      "text/plain": [
       "54.59815003314423"
      ]
     },
     "execution_count": 49,
     "metadata": {},
     "output_type": "execute_result"
    }
   ],
   "source": [
    "2.718281828459045**4"
   ]
  },
  {
   "cell_type": "code",
   "execution_count": 39,
   "id": "94e36715",
   "metadata": {},
   "outputs": [
    {
     "data": {
      "text/plain": [
       "4.0"
      ]
     },
     "execution_count": 39,
     "metadata": {},
     "output_type": "execute_result"
    }
   ],
   "source": [
    "math.log(math.exp(4))"
   ]
  },
  {
   "cell_type": "code",
   "execution_count": 31,
   "id": "f6ed75af",
   "metadata": {
    "scrolled": true
   },
   "outputs": [
    {
     "name": "stdout",
     "output_type": "stream",
     "text": [
      "-2.496510554212536\n",
      "2.422718959964038\n"
     ]
    }
   ],
   "source": [
    "vp(30)"
   ]
  },
  {
   "cell_type": "code",
   "execution_count": null,
   "id": "4f6999b1",
   "metadata": {},
   "outputs": [],
   "source": []
  }
 ],
 "metadata": {
  "kernelspec": {
   "display_name": "Python 3",
   "language": "python",
   "name": "python3"
  },
  "language_info": {
   "codemirror_mode": {
    "name": "ipython",
    "version": 3
   },
   "file_extension": ".py",
   "mimetype": "text/x-python",
   "name": "python",
   "nbconvert_exporter": "python",
   "pygments_lexer": "ipython3",
   "version": "3.8.8"
  }
 },
 "nbformat": 4,
 "nbformat_minor": 5
}
