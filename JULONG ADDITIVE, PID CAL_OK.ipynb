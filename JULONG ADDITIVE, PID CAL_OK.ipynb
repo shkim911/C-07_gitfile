{
 "cells": [
  {
   "cell_type": "code",
   "execution_count": 1,
   "id": "9d63f7a1",
   "metadata": {},
   "outputs": [],
   "source": [
    "import pandas as pd\n",
    "import scipy as sp\n",
    "import scipy.stats\n",
    "import matplotlib.pyplot as plt\n",
    "import numpy as np\n",
    "from math import *"
   ]
  },
  {
   "cell_type": "code",
   "execution_count": 2,
   "id": "c6feced9",
   "metadata": {},
   "outputs": [],
   "source": [
    "def add_ppm(vcm):\n",
    "    cat = 32 * 0.6\n",
    "    ga = 350 * 0.08\n",
    "    gb = 30 * 0.4\n",
    "    sta = 11 * 0.4\n",
    "    dw = 47 + 13.7\n",
    "    print('CAT  :',cat/vcm*1000,'ppm')\n",
    "    print('Gr-A :',ga/vcm*1000,'ppm')\n",
    "    print('Gr-B :',gb/vcm*1000,'ppm')\n",
    "    print('STA  :',int(sta/vcm*1000*10)/10,'ppm')\n",
    "    print('α  :',dw/vcm)"
   ]
  },
  {
   "cell_type": "code",
   "execution_count": 3,
   "id": "daa8ca1a",
   "metadata": {
    "scrolled": false
   },
   "outputs": [
    {
     "name": "stdout",
     "output_type": "stream",
     "text": [
      "CAT  : 457.1428571428571 ppm\n",
      "Gr-A : 666.6666666666666 ppm\n",
      "Gr-B : 285.7142857142857 ppm\n",
      "STA  : 104.7 ppm\n",
      "α  : 1.4452380952380952\n"
     ]
    }
   ],
   "source": [
    "add_ppm(42)"
   ]
  },
  {
   "cell_type": "code",
   "execution_count": null,
   "id": "87976bd5",
   "metadata": {},
   "outputs": [],
   "source": []
  },
  {
   "cell_type": "code",
   "execution_count": 10,
   "id": "14ac2b62",
   "metadata": {},
   "outputs": [],
   "source": [
    "def speed(flow,dia):\n",
    "    a = flow/3600\n",
    "    b = (3.14/4)*dia*dia\n",
    "    print('Speed:m/s',int((a/b) * 1000)/1000)\n",
    "    print(a)\n",
    "    print(b)"
   ]
  },
  {
   "cell_type": "code",
   "execution_count": 12,
   "id": "9bb4df86",
   "metadata": {},
   "outputs": [
    {
     "name": "stdout",
     "output_type": "stream",
     "text": [
      "Speed:m/s 0.387\n",
      "0.0019444444444444444\n",
      "0.005024000000000001\n"
     ]
    }
   ],
   "source": [
    "speed(7,0.08)"
   ]
  },
  {
   "cell_type": "code",
   "execution_count": 13,
   "id": "2f182f8e",
   "metadata": {
    "scrolled": true
   },
   "outputs": [
    {
     "name": "stdout",
     "output_type": "stream",
     "text": [
      "Speed:m/s 0.353\n",
      "0.0006944444444444445\n",
      "0.0019625000000000003\n"
     ]
    }
   ],
   "source": [
    "speed(2.5,0.05) "
   ]
  },
  {
   "cell_type": "code",
   "execution_count": 14,
   "id": "cc2a0902",
   "metadata": {
    "scrolled": false
   },
   "outputs": [
    {
     "name": "stdout",
     "output_type": "stream",
     "text": [
      "Speed:m/s 0.829\n",
      "0.004166666666666667\n",
      "0.005024000000000001\n"
     ]
    }
   ],
   "source": [
    "speed(15,0.08)"
   ]
  },
  {
   "cell_type": "code",
   "execution_count": 15,
   "id": "e85057b8",
   "metadata": {},
   "outputs": [
    {
     "name": "stdout",
     "output_type": "stream",
     "text": [
      "Speed:m/s 3.096\n",
      "0.09722222222222222\n",
      "0.031400000000000004\n"
     ]
    }
   ],
   "source": [
    "speed(350,0.2)"
   ]
  },
  {
   "cell_type": "code",
   "execution_count": 6,
   "id": "3f6fe304",
   "metadata": {},
   "outputs": [],
   "source": [
    "def pidyh(p,i,d):\n",
    "    p_v = 1/p\n",
    "    i_v = i/60\n",
    "    d_v = d/60\n",
    "    print('p:',int((p_v) * 1000)/1000)\n",
    "    print('i:',int((i_v) * 1000)/1000)\n",
    "    print('d:',int((d_v) * 1000)/1000)"
   ]
  },
  {
   "cell_type": "code",
   "execution_count": 7,
   "id": "b45feb06",
   "metadata": {},
   "outputs": [],
   "source": [
    "def pidhy(p,i,d):\n",
    "    p_v = 1/p\n",
    "    i_v = i*60\n",
    "    d_v = d*60\n",
    "    print('p:',int((p_v) * 1000)/1000)\n",
    "    print('i:',int((i_v) * 1000)/1000)\n",
    "    print('d:',int((d_v) * 1000)/1000)"
   ]
  },
  {
   "cell_type": "code",
   "execution_count": 8,
   "id": "eeaccc12",
   "metadata": {
    "scrolled": true
   },
   "outputs": [
    {
     "name": "stdout",
     "output_type": "stream",
     "text": [
      "p: 0.014\n",
      "i: 0.583\n",
      "d: 0.0\n"
     ]
    }
   ],
   "source": [
    "pidyh(70,35,0)"
   ]
  },
  {
   "cell_type": "code",
   "execution_count": 10,
   "id": "5ec9d4bd",
   "metadata": {},
   "outputs": [
    {
     "name": "stdout",
     "output_type": "stream",
     "text": [
      "p: 100.0\n",
      "i: 9.96\n",
      "d: 0.0\n"
     ]
    }
   ],
   "source": [
    "pidhy(0.01, 0.166,0)"
   ]
  },
  {
   "cell_type": "code",
   "execution_count": 6,
   "id": "59b178aa",
   "metadata": {
    "scrolled": true
   },
   "outputs": [
    {
     "name": "stdout",
     "output_type": "stream",
     "text": [
      "p: 2.0\n",
      "i: 0.166\n",
      "d: 0.0\n"
     ]
    }
   ],
   "source": [
    "pidyh(0.5,10,0)"
   ]
  },
  {
   "cell_type": "code",
   "execution_count": 11,
   "id": "ef6679ff",
   "metadata": {
    "scrolled": false
   },
   "outputs": [
    {
     "name": "stdout",
     "output_type": "stream",
     "text": [
      "p: 0.008\n",
      "i: 0.833\n",
      "d: 0.0\n"
     ]
    }
   ],
   "source": [
    "pidyh(120,50,0)"
   ]
  },
  {
   "cell_type": "code",
   "execution_count": null,
   "id": "c04ae71f",
   "metadata": {},
   "outputs": [],
   "source": []
  }
 ],
 "metadata": {
  "kernelspec": {
   "display_name": "Python 3",
   "language": "python",
   "name": "python3"
  },
  "language_info": {
   "codemirror_mode": {
    "name": "ipython",
    "version": 3
   },
   "file_extension": ".py",
   "mimetype": "text/x-python",
   "name": "python",
   "nbconvert_exporter": "python",
   "pygments_lexer": "ipython3",
   "version": "3.8.8"
  }
 },
 "nbformat": 4,
 "nbformat_minor": 5
}
